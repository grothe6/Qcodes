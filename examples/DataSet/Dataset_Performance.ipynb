{
 "cells": [
  {
   "cell_type": "markdown",
   "metadata": {},
   "source": [
    "# DataSet Performance\n",
    "\n",
    "This notebook shows the trade-off between inserting data into a database row-by-row and as binary blobs. Inserting the data row-by-row means that we have direct access to all the data and may perform queries directly on the values of the data. On the other hand, as we shall see, this is much slower than inserting the data directly as binary blobs."
   ]
  },
  {
   "cell_type": "markdown",
   "metadata": {},
   "source": [
    "First, we choose a new location for the database to ensure that we don't add a bunch of benchmarking data to the default one."
   ]
  },
  {
   "cell_type": "code",
   "execution_count": 1,
   "metadata": {
    "execution": {
     "iopub.execute_input": "2022-11-11T13:46:52.378061Z",
     "iopub.status.busy": "2022-11-11T13:46:52.377562Z",
     "iopub.status.idle": "2022-11-11T13:46:52.643715Z",
     "shell.execute_reply": "2022-11-11T13:46:52.642994Z"
    }
   },
   "outputs": [],
   "source": [
    "import os\n",
    "cwd = os.getcwd()\n",
    "import qcodes as qc\n",
    "qc.config[\"core\"][\"db_location\"] = os.path.join(cwd, 'testing.db')\n"
   ]
  },
  {
   "cell_type": "code",
   "execution_count": 2,
   "metadata": {
    "execution": {
     "iopub.execute_input": "2022-11-11T13:46:52.647908Z",
     "iopub.status.busy": "2022-11-11T13:46:52.647449Z",
     "iopub.status.idle": "2022-11-11T13:46:52.967538Z",
     "shell.execute_reply": "2022-11-11T13:46:52.966823Z"
    }
   },
   "outputs": [],
   "source": [
    "%matplotlib inline\n",
    "import time\n",
    "import matplotlib.pyplot as plt\n",
    "import numpy as np\n",
    "\n",
    "import qcodes as qc\n",
    "from qcodes.instrument.parameter import ManualParameter\n",
    "from qcodes.dataset.experiment_container import (Experiment,\n",
    "                                                 load_last_experiment,\n",
    "                                                 new_experiment)\n",
    "from qcodes.dataset.sqlite.database import initialise_database\n",
    "from qcodes import load_or_create_experiment\n",
    "from qcodes.dataset.measurements import Measurement"
   ]
  },
  {
   "cell_type": "code",
   "execution_count": 3,
   "metadata": {
    "execution": {
     "iopub.execute_input": "2022-11-11T13:46:52.972463Z",
     "iopub.status.busy": "2022-11-11T13:46:52.971051Z",
     "iopub.status.idle": "2022-11-11T13:46:53.014105Z",
     "shell.execute_reply": "2022-11-11T13:46:53.013421Z"
    }
   },
   "outputs": [],
   "source": [
    "initialise_database()\n",
    "exp = load_or_create_experiment(experiment_name='tutorial_exp', sample_name=\"no sample\")"
   ]
  },
  {
   "cell_type": "markdown",
   "metadata": {},
   "source": [
    "Here, we define a simple function to benchmark the time it takes to insert n points with either numeric or array data type.\n",
    "We will compare both the time used to call ``add_result`` and the time used for the full measurement."
   ]
  },
  {
   "cell_type": "code",
   "execution_count": 4,
   "metadata": {
    "execution": {
     "iopub.execute_input": "2022-11-11T13:46:53.018029Z",
     "iopub.status.busy": "2022-11-11T13:46:53.017553Z",
     "iopub.status.idle": "2022-11-11T13:46:53.025864Z",
     "shell.execute_reply": "2022-11-11T13:46:53.025214Z"
    }
   },
   "outputs": [],
   "source": [
    "def insert_data(paramtype, npoints, nreps=1):\n",
    "\n",
    "    meas = Measurement(exp=exp)\n",
    "\n",
    "    x1 = ManualParameter('x1')\n",
    "    x2 = ManualParameter('x2')\n",
    "    x3 = ManualParameter('x3')\n",
    "    y1 = ManualParameter('y1')\n",
    "    y2 = ManualParameter('y2')\n",
    "\n",
    "    meas.register_parameter(x1, paramtype=paramtype)\n",
    "    meas.register_parameter(x2, paramtype=paramtype)\n",
    "    meas.register_parameter(x3, paramtype=paramtype)\n",
    "    meas.register_parameter(y1, setpoints=[x1, x2, x3],\n",
    "                            paramtype=paramtype)\n",
    "    meas.register_parameter(y2, setpoints=[x1, x2, x3],\n",
    "                            paramtype=paramtype)\n",
    "    start = time.perf_counter()\n",
    "    with meas.run() as datasaver:\n",
    "        start_adding = time.perf_counter()\n",
    "        for i in range(nreps):\n",
    "            datasaver.add_result((x1, np.random.rand(npoints)),\n",
    "                                 (x2, np.random.rand(npoints)),\n",
    "                                 (x3, np.random.rand(npoints)),\n",
    "                                 (y1, np.random.rand(npoints)),\n",
    "                                 (y2, np.random.rand(npoints)))\n",
    "        stop_adding = time.perf_counter()\n",
    "        run_id = datasaver.run_id\n",
    "    stop = time.perf_counter()\n",
    "    tot_time = stop - start\n",
    "    add_time = stop_adding - start_adding\n",
    "    return tot_time, add_time, run_id"
   ]
  },
  {
   "cell_type": "markdown",
   "metadata": {},
   "source": [
    "## Comparison between numeric/array data and binary blob"
   ]
  },
  {
   "cell_type": "markdown",
   "metadata": {},
   "source": [
    "### Case1: Short experiment time"
   ]
  },
  {
   "cell_type": "code",
   "execution_count": 5,
   "metadata": {
    "execution": {
     "iopub.execute_input": "2022-11-11T13:46:53.029163Z",
     "iopub.status.busy": "2022-11-11T13:46:53.028698Z",
     "iopub.status.idle": "2022-11-11T13:46:53.529876Z",
     "shell.execute_reply": "2022-11-11T13:46:53.529162Z"
    }
   },
   "outputs": [
    {
     "name": "stdout",
     "output_type": "stream",
     "text": [
      "Starting experimental run with id: 1. \n",
      "Starting experimental run with id: 2. \n",
      "Starting experimental run with id: 3. \n",
      "Starting experimental run with id: 4. \n",
      "Starting experimental run with id: 5. \n",
      "Starting experimental run with id: 6. \n",
      "Starting experimental run with id: 7. \n",
      "Starting experimental run with id: 8. \n"
     ]
    },
    {
     "name": "stdout",
     "output_type": "stream",
     "text": [
      "Starting experimental run with id: 9. \n",
      "Starting experimental run with id: 10. \n",
      "Starting experimental run with id: 11. \n",
      "Starting experimental run with id: 12. \n",
      "Starting experimental run with id: 13. \n"
     ]
    },
    {
     "name": "stdout",
     "output_type": "stream",
     "text": [
      "Starting experimental run with id: 14. \n"
     ]
    }
   ],
   "source": [
    "sizes = [1,500,1000,2000,3000,4000,5000]\n",
    "t_numeric = []\n",
    "t_numeric_add = []\n",
    "t_array = []\n",
    "t_array_add = []\n",
    "for size in sizes:\n",
    "    tn, tna, run_id_n =  insert_data('numeric', size)\n",
    "    t_numeric.append(tn)\n",
    "    t_numeric_add.append(tna)\n",
    "\n",
    "    ta, taa, run_id_a =  insert_data('array', size)\n",
    "    t_array.append(ta)\n",
    "    t_array_add.append(taa)"
   ]
  },
  {
   "cell_type": "code",
   "execution_count": 6,
   "metadata": {
    "execution": {
     "iopub.execute_input": "2022-11-11T13:46:53.533433Z",
     "iopub.status.busy": "2022-11-11T13:46:53.532949Z",
     "iopub.status.idle": "2022-11-11T13:46:53.746343Z",
     "shell.execute_reply": "2022-11-11T13:46:53.745609Z"
    }
   },
   "outputs": [
    {
     "data": {
      "image/png": "[encoded data removed]",
      "text/plain": [
       "<Figure size 640x480 with 1 Axes>"
      ]
     },
     "metadata": {},
     "output_type": "display_data"
    }
   ],
   "source": [
    "fig, ax = plt.subplots(1,1)\n",
    "ax.plot(sizes, t_numeric, 'o-', label='Inserting row-by-row')\n",
    "ax.plot(sizes, t_numeric_add, 'o-', label='Inserting row-by-row: add_result only')\n",
    "ax.plot(sizes, t_array, 'd-', label='Inserting as binary blob')\n",
    "ax.plot(sizes, t_array_add, 'd-', label='Inserting as binary blob: add_result only')\n",
    "ax.legend()\n",
    "ax.set_xlabel('Array length')\n",
    "ax.set_ylabel('Time (s)')\n",
    "fig.tight_layout()"
   ]
  },
  {
   "cell_type": "markdown",
   "metadata": {},
   "source": [
    "As shown in the latter figure, the time to setup and and close the experiment is approximately 0.4 sec. In case of small array sizes, the difference between inserting values of data as arrays and inserting them row-by-row is relatively unimportant. At larger array sizes, i.e. above 10000 points, the cost of writing data as individual datapoints starts to become important.\n"
   ]
  },
  {
   "cell_type": "markdown",
   "metadata": {},
   "source": [
    "### Case2: Long experiment time "
   ]
  },
  {
   "cell_type": "code",
   "execution_count": 7,
   "metadata": {
    "execution": {
     "iopub.execute_input": "2022-11-11T13:46:53.750249Z",
     "iopub.status.busy": "2022-11-11T13:46:53.749663Z",
     "iopub.status.idle": "2022-11-11T13:47:21.199449Z",
     "shell.execute_reply": "2022-11-11T13:47:21.198713Z"
    }
   },
   "outputs": [
    {
     "name": "stdout",
     "output_type": "stream",
     "text": [
      "Starting experimental run with id: 15. \n",
      "Starting experimental run with id: 16. \n",
      "Starting experimental run with id: 17. \n"
     ]
    },
    {
     "name": "stdout",
     "output_type": "stream",
     "text": [
      "Starting experimental run with id: 18. \n",
      "Starting experimental run with id: 19. \n"
     ]
    },
    {
     "name": "stdout",
     "output_type": "stream",
     "text": [
      "Starting experimental run with id: 20. \n",
      "Starting experimental run with id: 21. \n"
     ]
    },
    {
     "name": "stdout",
     "output_type": "stream",
     "text": [
      "Starting experimental run with id: 22. \n",
      "Starting experimental run with id: 23. \n"
     ]
    },
    {
     "name": "stdout",
     "output_type": "stream",
     "text": [
      "Starting experimental run with id: 24. \n"
     ]
    },
    {
     "name": "stdout",
     "output_type": "stream",
     "text": [
      "Starting experimental run with id: 25. \n"
     ]
    },
    {
     "name": "stdout",
     "output_type": "stream",
     "text": [
      "Starting experimental run with id: 26. \n"
     ]
    },
    {
     "name": "stdout",
     "output_type": "stream",
     "text": [
      "Starting experimental run with id: 27. \n"
     ]
    },
    {
     "name": "stdout",
     "output_type": "stream",
     "text": [
      "Starting experimental run with id: 28. \n"
     ]
    }
   ],
   "source": [
    "sizes = [1,500,1000,2000,3000,4000,5000]\n",
    "nreps = 100\n",
    "t_numeric = []\n",
    "t_numeric_add = []\n",
    "t_numeric_run_ids = []\n",
    "t_array = []\n",
    "t_array_add = []\n",
    "t_array_run_ids = []\n",
    "for size in sizes:\n",
    "    tn, tna, run_id_n =  insert_data('numeric', size, nreps=nreps)\n",
    "    t_numeric.append(tn)\n",
    "    t_numeric_add.append(tna)\n",
    "    t_numeric_run_ids.append(run_id_n)\n",
    "\n",
    "    ta, taa, run_id_a =  insert_data('array', size, nreps=nreps)\n",
    "    t_array.append(ta)\n",
    "    t_array_add.append(taa)\n",
    "    t_array_run_ids.append(run_id_a)"
   ]
  },
  {
   "cell_type": "code",
   "execution_count": 8,
   "metadata": {
    "execution": {
     "iopub.execute_input": "2022-11-11T13:47:21.203304Z",
     "iopub.status.busy": "2022-11-11T13:47:21.203034Z",
     "iopub.status.idle": "2022-11-11T13:47:21.394455Z",
     "shell.execute_reply": "2022-11-11T13:47:21.393641Z"
    },
    "scrolled": true
   },
   "outputs": [
    {
     "data": {
      "image/png": "[encoded data removed]",
      "text/plain": [
       "<Figure size 640x480 with 1 Axes>"
      ]
     },
     "metadata": {},
     "output_type": "display_data"
    }
   ],
   "source": [
    "fig, ax = plt.subplots(1,1)\n",
    "ax.plot(sizes, t_numeric, 'o-', label='Inserting row-by-row')\n",
    "ax.plot(sizes, t_numeric_add, 'o-', label='Inserting row-by-row: add_result only')\n",
    "ax.plot(sizes, t_array, 'd-', label='Inserting as binary blob')\n",
    "ax.plot(sizes, t_array_add, 'd-', label='Inserting as binary blob: add_result only')\n",
    "ax.legend()\n",
    "ax.set_xlabel('Array length')\n",
    "ax.set_ylabel('Time (s)')\n",
    "fig.tight_layout()"
   ]
  },
  {
   "cell_type": "markdown",
   "metadata": {},
   "source": [
    "However, as we increase the length of the experiment, as seen here by repeating the insertion 100 times, we see a big difference between inserting values of the data row-by-row and inserting it as a binary blob."
   ]
  },
  {
   "cell_type": "markdown",
   "metadata": {},
   "source": [
    "## Loading the data "
   ]
  },
  {
   "cell_type": "code",
   "execution_count": 9,
   "metadata": {
    "execution": {
     "iopub.execute_input": "2022-11-11T13:47:21.398494Z",
     "iopub.status.busy": "2022-11-11T13:47:21.397827Z",
     "iopub.status.idle": "2022-11-11T13:47:21.401556Z",
     "shell.execute_reply": "2022-11-11T13:47:21.400907Z"
    }
   },
   "outputs": [],
   "source": [
    "from qcodes.dataset.data_set import load_by_id"
   ]
  },
  {
   "cell_type": "markdown",
   "metadata": {},
   "source": [
    "As usual you can load the data by using the ``load_by_id`` function but you will notice that the different storage methods\n",
    "are reflected in shape of the data as it is retrieved. "
   ]
  },
  {
   "cell_type": "code",
   "execution_count": 10,
   "metadata": {
    "execution": {
     "iopub.execute_input": "2022-11-11T13:47:21.404706Z",
     "iopub.status.busy": "2022-11-11T13:47:21.404333Z",
     "iopub.status.idle": "2022-11-11T13:47:21.408502Z",
     "shell.execute_reply": "2022-11-11T13:47:21.407896Z"
    }
   },
   "outputs": [],
   "source": [
    "run_id_n = t_numeric_run_ids[0]\n",
    "run_id_a = t_array_run_ids[0]"
   ]
  },
  {
   "cell_type": "code",
   "execution_count": 11,
   "metadata": {
    "execution": {
     "iopub.execute_input": "2022-11-11T13:47:21.412408Z",
     "iopub.status.busy": "2022-11-11T13:47:21.411866Z",
     "iopub.status.idle": "2022-11-11T13:47:21.420474Z",
     "shell.execute_reply": "2022-11-11T13:47:21.419803Z"
    },
    "scrolled": true
   },
   "outputs": [
    {
     "data": {
      "text/plain": [
       "{'x1': {'x1': array([0.21447281, 0.21447281, 0.50561601, 0.50561601, 0.16603036,\n",
       "         0.16603036, 0.31802428, 0.31802428, 0.65099177, 0.65099177,\n",
       "         0.6039709 , 0.6039709 , 0.97358777, 0.97358777, 0.9945543 ,\n",
       "         0.9945543 , 0.07368402, 0.07368402, 0.97984328, 0.97984328,\n",
       "         0.68625732, 0.68625732, 0.26760921, 0.26760921, 0.44673384,\n",
       "         0.44673384, 0.96412831, 0.96412831, 0.93326407, 0.93326407,\n",
       "         0.67764104, 0.67764104, 0.91525436, 0.91525436, 0.60759734,\n",
       "         0.60759734, 0.80822319, 0.80822319, 0.72285118, 0.72285118,\n",
       "         0.94270734, 0.94270734, 0.29962838, 0.29962838, 0.32934098,\n",
       "         0.32934098, 0.08630895, 0.08630895, 0.86646042, 0.86646042,\n",
       "         0.07302417, 0.07302417, 0.57494727, 0.57494727, 0.63486927,\n",
       "         0.63486927, 0.14095459, 0.14095459, 0.30030353, 0.30030353,\n",
       "         0.50316328, 0.50316328, 0.11278535, 0.11278535, 0.02142493,\n",
       "         0.02142493, 0.16501229, 0.16501229, 0.60855183, 0.60855183,\n",
       "         0.71709475, 0.71709475, 0.8210232 , 0.8210232 , 0.20343116,\n",
       "         0.20343116, 0.50586932, 0.50586932, 0.46123925, 0.46123925,\n",
       "         0.2522315 , 0.2522315 , 0.52675877, 0.52675877, 0.90999261,\n",
       "         0.90999261, 0.55107297, 0.55107297, 0.12514756, 0.12514756,\n",
       "         0.88445956, 0.88445956, 0.05390303, 0.05390303, 0.71595   ,\n",
       "         0.71595   , 0.06197164, 0.06197164, 0.31975389, 0.31975389,\n",
       "         0.1973686 , 0.1973686 , 0.17375576, 0.17375576, 0.08006697,\n",
       "         0.08006697, 0.37319086, 0.37319086, 0.60633086, 0.60633086,\n",
       "         0.16510719, 0.16510719, 0.29407725, 0.29407725, 0.65578644,\n",
       "         0.65578644, 0.0346644 , 0.0346644 , 0.40469564, 0.40469564,\n",
       "         0.61398271, 0.61398271, 0.51260518, 0.51260518, 0.90109035,\n",
       "         0.90109035, 0.59563307, 0.59563307, 0.07812307, 0.07812307,\n",
       "         0.32678215, 0.32678215, 0.06541915, 0.06541915, 0.59863127,\n",
       "         0.59863127, 0.60979804, 0.60979804, 0.70472292, 0.70472292,\n",
       "         0.89049501, 0.89049501, 0.9872508 , 0.9872508 , 0.39770896,\n",
       "         0.39770896, 0.04537736, 0.04537736, 0.48467804, 0.48467804,\n",
       "         0.68563283, 0.68563283, 0.52782981, 0.52782981, 0.69263982,\n",
       "         0.69263982, 0.99985722, 0.99985722, 0.31963967, 0.31963967,\n",
       "         0.60929746, 0.60929746, 0.67655969, 0.67655969, 0.08261719,\n",
       "         0.08261719, 0.1656356 , 0.1656356 , 0.55887447, 0.55887447,\n",
       "         0.61650854, 0.61650854, 0.6084878 , 0.6084878 , 0.03275829,\n",
       "         0.03275829, 0.57045807, 0.57045807, 0.76489011, 0.76489011,\n",
       "         0.01690729, 0.01690729, 0.90847654, 0.90847654, 0.47345862,\n",
       "         0.47345862, 0.05029325, 0.05029325, 0.33476712, 0.33476712,\n",
       "         0.92707058, 0.92707058, 0.62066295, 0.62066295, 0.75503919,\n",
       "         0.75503919, 0.3690863 , 0.3690863 , 0.43577906, 0.43577906])}}"
      ]
     },
     "execution_count": 11,
     "metadata": {},
     "output_type": "execute_result"
    }
   ],
   "source": [
    "ds = load_by_id(run_id_n)\n",
    "ds.get_parameter_data('x1')"
   ]
  },
  {
   "cell_type": "markdown",
   "metadata": {},
   "source": [
    "And a dataset stored as binary arrays"
   ]
  },
  {
   "cell_type": "code",
   "execution_count": 12,
   "metadata": {
    "execution": {
     "iopub.execute_input": "2022-11-11T13:47:21.423721Z",
     "iopub.status.busy": "2022-11-11T13:47:21.423359Z",
     "iopub.status.idle": "2022-11-11T13:47:21.442999Z",
     "shell.execute_reply": "2022-11-11T13:47:21.442294Z"
    },
    "scrolled": true
   },
   "outputs": [
    {
     "data": {
      "text/plain": [
       "{'x1': {'x1': array([[0.85743025],\n",
       "         [0.85743025],\n",
       "         [0.80986866],\n",
       "         [0.80986866],\n",
       "         [0.44640361],\n",
       "         [0.44640361],\n",
       "         [0.06380712],\n",
       "         [0.06380712],\n",
       "         [0.43434394],\n",
       "         [0.43434394],\n",
       "         [0.05889966],\n",
       "         [0.05889966],\n",
       "         [0.77550652],\n",
       "         [0.77550652],\n",
       "         [0.13362572],\n",
       "         [0.13362572],\n",
       "         [0.88385748],\n",
       "         [0.88385748],\n",
       "         [0.67906673],\n",
       "         [0.67906673],\n",
       "         [0.09982723],\n",
       "         [0.09982723],\n",
       "         [0.64866149],\n",
       "         [0.64866149],\n",
       "         [0.79082273],\n",
       "         [0.79082273],\n",
       "         [0.0433007 ],\n",
       "         [0.0433007 ],\n",
       "         [0.35480236],\n",
       "         [0.35480236],\n",
       "         [0.64106639],\n",
       "         [0.64106639],\n",
       "         [0.02004447],\n",
       "         [0.02004447],\n",
       "         [0.32560283],\n",
       "         [0.32560283],\n",
       "         [0.34137066],\n",
       "         [0.34137066],\n",
       "         [0.44263764],\n",
       "         [0.44263764],\n",
       "         [0.02823562],\n",
       "         [0.02823562],\n",
       "         [0.36851371],\n",
       "         [0.36851371],\n",
       "         [0.24789146],\n",
       "         [0.24789146],\n",
       "         [0.27520487],\n",
       "         [0.27520487],\n",
       "         [0.80962535],\n",
       "         [0.80962535],\n",
       "         [0.63271541],\n",
       "         [0.63271541],\n",
       "         [0.58917884],\n",
       "         [0.58917884],\n",
       "         [0.85645384],\n",
       "         [0.85645384],\n",
       "         [0.21094241],\n",
       "         [0.21094241],\n",
       "         [0.14357032],\n",
       "         [0.14357032],\n",
       "         [0.20160634],\n",
       "         [0.20160634],\n",
       "         [0.2780451 ],\n",
       "         [0.2780451 ],\n",
       "         [0.94181982],\n",
       "         [0.94181982],\n",
       "         [0.84719241],\n",
       "         [0.84719241],\n",
       "         [0.50027494],\n",
       "         [0.50027494],\n",
       "         [0.99446506],\n",
       "         [0.99446506],\n",
       "         [0.30533688],\n",
       "         [0.30533688],\n",
       "         [0.26018126],\n",
       "         [0.26018126],\n",
       "         [0.89714913],\n",
       "         [0.89714913],\n",
       "         [0.86783064],\n",
       "         [0.86783064],\n",
       "         [0.20897929],\n",
       "         [0.20897929],\n",
       "         [0.55521061],\n",
       "         [0.55521061],\n",
       "         [0.55037729],\n",
       "         [0.55037729],\n",
       "         [0.48132913],\n",
       "         [0.48132913],\n",
       "         [0.76064927],\n",
       "         [0.76064927],\n",
       "         [0.30686861],\n",
       "         [0.30686861],\n",
       "         [0.01636088],\n",
       "         [0.01636088],\n",
       "         [0.45876276],\n",
       "         [0.45876276],\n",
       "         [0.29006242],\n",
       "         [0.29006242],\n",
       "         [0.31718295],\n",
       "         [0.31718295],\n",
       "         [0.71257457],\n",
       "         [0.71257457],\n",
       "         [0.52913192],\n",
       "         [0.52913192],\n",
       "         [0.31676659],\n",
       "         [0.31676659],\n",
       "         [0.69598687],\n",
       "         [0.69598687],\n",
       "         [0.16820624],\n",
       "         [0.16820624],\n",
       "         [0.16384266],\n",
       "         [0.16384266],\n",
       "         [0.72158334],\n",
       "         [0.72158334],\n",
       "         [0.37989131],\n",
       "         [0.37989131],\n",
       "         [0.93378455],\n",
       "         [0.93378455],\n",
       "         [0.64731082],\n",
       "         [0.64731082],\n",
       "         [0.32834092],\n",
       "         [0.32834092],\n",
       "         [0.69669559],\n",
       "         [0.69669559],\n",
       "         [0.36498849],\n",
       "         [0.36498849],\n",
       "         [0.45021564],\n",
       "         [0.45021564],\n",
       "         [0.17470721],\n",
       "         [0.17470721],\n",
       "         [0.54904817],\n",
       "         [0.54904817],\n",
       "         [0.15712971],\n",
       "         [0.15712971],\n",
       "         [0.46218546],\n",
       "         [0.46218546],\n",
       "         [0.03371117],\n",
       "         [0.03371117],\n",
       "         [0.31968697],\n",
       "         [0.31968697],\n",
       "         [0.05399718],\n",
       "         [0.05399718],\n",
       "         [0.09615804],\n",
       "         [0.09615804],\n",
       "         [0.33289949],\n",
       "         [0.33289949],\n",
       "         [0.28452856],\n",
       "         [0.28452856],\n",
       "         [0.39604842],\n",
       "         [0.39604842],\n",
       "         [0.96577567],\n",
       "         [0.96577567],\n",
       "         [0.57438037],\n",
       "         [0.57438037],\n",
       "         [0.08498669],\n",
       "         [0.08498669],\n",
       "         [0.17960042],\n",
       "         [0.17960042],\n",
       "         [0.67768874],\n",
       "         [0.67768874],\n",
       "         [0.092819  ],\n",
       "         [0.092819  ],\n",
       "         [0.96760311],\n",
       "         [0.96760311],\n",
       "         [0.61933706],\n",
       "         [0.61933706],\n",
       "         [0.23921551],\n",
       "         [0.23921551],\n",
       "         [0.19841676],\n",
       "         [0.19841676],\n",
       "         [0.52136044],\n",
       "         [0.52136044],\n",
       "         [0.12584833],\n",
       "         [0.12584833],\n",
       "         [0.6586625 ],\n",
       "         [0.6586625 ],\n",
       "         [0.69518835],\n",
       "         [0.69518835],\n",
       "         [0.1669971 ],\n",
       "         [0.1669971 ],\n",
       "         [0.46617801],\n",
       "         [0.46617801],\n",
       "         [0.48890099],\n",
       "         [0.48890099],\n",
       "         [0.99818403],\n",
       "         [0.99818403],\n",
       "         [0.01398704],\n",
       "         [0.01398704],\n",
       "         [0.50446334],\n",
       "         [0.50446334],\n",
       "         [0.41627794],\n",
       "         [0.41627794],\n",
       "         [0.33209382],\n",
       "         [0.33209382],\n",
       "         [0.36667867],\n",
       "         [0.36667867],\n",
       "         [0.25596738],\n",
       "         [0.25596738],\n",
       "         [0.91106435],\n",
       "         [0.91106435]])}}"
      ]
     },
     "execution_count": 12,
     "metadata": {},
     "output_type": "execute_result"
    }
   ],
   "source": [
    "ds = load_by_id(run_id_a)\n",
    "ds.get_parameter_data('x1')"
   ]
  },
  {
   "cell_type": "code",
   "execution_count": null,
   "metadata": {},
   "outputs": [],
   "source": []
  }
 ],
 "metadata": {
  "kernelspec": {
   "display_name": "Python 3",
   "language": "python",
   "name": "python3"
  },
  "language_info": {
   "codemirror_mode": {
    "name": "ipython",
    "version": 3
   },
   "file_extension": ".py",
   "mimetype": "text/x-python",
   "name": "python",
   "nbconvert_exporter": "python",
   "pygments_lexer": "ipython3",
   "version": "3.10.8"
  },
  "nbsphinx": {
   "timeout": 600
  },
  "toc": {
   "base_numbering": 1,
   "nav_menu": {},
   "number_sections": true,
   "sideBar": true,
   "skip_h1_title": false,
   "title_cell": "Table of Contents",
   "title_sidebar": "Contents",
   "toc_cell": false,
   "toc_position": {},
   "toc_section_display": true,
   "toc_window_display": false
  },
  "varInspector": {
   "cols": {
    "lenName": 16,
    "lenType": 16,
    "lenVar": 40
   },
   "kernels_config": {
    "python": {
     "delete_cmd_postfix": "",
     "delete_cmd_prefix": "del ",
     "library": "var_list.py",
     "varRefreshCmd": "print(var_dic_list())"
    },
    "r": {
     "delete_cmd_postfix": ") ",
     "delete_cmd_prefix": "rm(",
     "library": "var_list.r",
     "varRefreshCmd": "cat(var_dic_list()) "
    }
   },
   "types_to_exclude": [
    "module",
    "function",
    "builtin_function_or_method",
    "instance",
    "_Feature"
   ],
   "window_display": false
  }
 },
 "nbformat": 4,
 "nbformat_minor": 4
}
