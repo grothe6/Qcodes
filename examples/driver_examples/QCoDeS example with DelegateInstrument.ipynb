{
 "cells": [
  {
   "cell_type": "markdown",
   "id": "plain-primary",
   "metadata": {},
   "source": [
    "# Qcodes example with DelegateInstrument driver\n",
    "\n",
    "This notebooks explains how to use the `DelegateInstrument` driver.\n",
    "\n",
    "## About\n",
    "The goal of the `DelegateInstrument` driver is to make it easier to combine different parameters together into a new \"virtual\" instrument. Each parameter on a `DelegateInstrument` can point to one or more parameters on other instruments in the station.\n",
    "\n",
    "## Usage\n",
    "The way it's used is mainly by specifying an entry in the station YAML. For instance, let's say you want to use a magnetic field coil. The driver has a method set_field(value, block), that by default is set to block=True, which means the field is ramped in a way that blocks further execution until the desired value is reached. However, let's say you are creating a measurement in which you want the parameter to be set, and while the value is ramping, you want to measure other parameters. This can be done by using `DelegateInstrument` and specifying a custom `setter` for the parameter that gets and sets the magnetic field.\n",
    "\n",
    "By default, each parameter is represented by a `DelegateParameter`. The `DelegateInstrument` also supports passing multiple source parameters to a given parameter. In order to do this, simply specify multiple parameters in the dictionary values  under the `parameters` key.\n",
    "\n",
    "It can also add instrument channels, specified under a separate key `channels`, shown in the second half of the notebook."
   ]
  },
  {
   "cell_type": "code",
   "execution_count": 1,
   "id": "sapphire-quebec",
   "metadata": {
    "execution": {
     "iopub.execute_input": "2022-11-11T13:52:32.264468Z",
     "iopub.status.busy": "2022-11-11T13:52:32.263988Z",
     "iopub.status.idle": "2022-11-11T13:52:32.272785Z",
     "shell.execute_reply": "2022-11-11T13:52:32.272108Z"
    }
   },
   "outputs": [
    {
     "name": "stdout",
     "output_type": "stream",
     "text": [
      "Writing example.yaml\n"
     ]
    }
   ],
   "source": [
    "%%writefile example.yaml\n",
    "\n",
    "instruments:\n",
    "  field_X:\n",
    "    type: qcodes.tests.instrument_mocks.MockField\n",
    "\n",
    "  field:\n",
    "    type: qcodes.instrument.delegate.DelegateInstrument\n",
    "    init:\n",
    "      parameters:\n",
    "        X:\n",
    "          - field_X.field\n",
    "        ramp_rate:\n",
    "          - field_X.ramp_rate\n",
    "        combined:\n",
    "          - field_X.field\n",
    "          - field_X.ramp_rate\n",
    "      set_initial_values_on_load: true\n",
    "      initial_values:\n",
    "        ramp_rate: 1.0\n",
    "      setters:\n",
    "        X:\n",
    "          method: field_X.set_field\n",
    "          block: false"
   ]
  },
  {
   "cell_type": "code",
   "execution_count": 2,
   "id": "younger-newspaper",
   "metadata": {
    "execution": {
     "iopub.execute_input": "2022-11-11T13:52:32.275968Z",
     "iopub.status.busy": "2022-11-11T13:52:32.275531Z",
     "iopub.status.idle": "2022-11-11T13:52:32.541879Z",
     "shell.execute_reply": "2022-11-11T13:52:32.541163Z"
    }
   },
   "outputs": [],
   "source": [
    "import qcodes as qc"
   ]
  },
  {
   "cell_type": "code",
   "execution_count": 3,
   "id": "muslim-briefs",
   "metadata": {
    "execution": {
     "iopub.execute_input": "2022-11-11T13:52:32.546228Z",
     "iopub.status.busy": "2022-11-11T13:52:32.545755Z",
     "iopub.status.idle": "2022-11-11T13:52:32.571271Z",
     "shell.execute_reply": "2022-11-11T13:52:32.570667Z"
    }
   },
   "outputs": [],
   "source": [
    "station = qc.Station(config_file=\"example.yaml\")"
   ]
  },
  {
   "cell_type": "code",
   "execution_count": 4,
   "id": "greatest-antenna",
   "metadata": {
    "execution": {
     "iopub.execute_input": "2022-11-11T13:52:32.574726Z",
     "iopub.status.busy": "2022-11-11T13:52:32.574370Z",
     "iopub.status.idle": "2022-11-11T13:52:32.603267Z",
     "shell.execute_reply": "2022-11-11T13:52:32.602648Z"
    }
   },
   "outputs": [],
   "source": [
    "field_X = station.load_field_X()\n",
    "field = station.load_field(station=station)"
   ]
  },
  {
   "cell_type": "code",
   "execution_count": 5,
   "id": "every-playing",
   "metadata": {
    "execution": {
     "iopub.execute_input": "2022-11-11T13:52:32.606270Z",
     "iopub.status.busy": "2022-11-11T13:52:32.606014Z",
     "iopub.status.idle": "2022-11-11T13:52:32.616113Z",
     "shell.execute_reply": "2022-11-11T13:52:32.615515Z"
    }
   },
   "outputs": [
    {
     "data": {
      "text/plain": [
       "0.0"
      ]
     },
     "execution_count": 5,
     "metadata": {},
     "output_type": "execute_result"
    }
   ],
   "source": [
    "field.X()"
   ]
  },
  {
   "cell_type": "code",
   "execution_count": 6,
   "id": "undefined-worst",
   "metadata": {
    "execution": {
     "iopub.execute_input": "2022-11-11T13:52:32.618994Z",
     "iopub.status.busy": "2022-11-11T13:52:32.618771Z",
     "iopub.status.idle": "2022-11-11T13:52:32.622902Z",
     "shell.execute_reply": "2022-11-11T13:52:32.622283Z"
    }
   },
   "outputs": [],
   "source": [
    "field.X(1.)"
   ]
  },
  {
   "cell_type": "code",
   "execution_count": 7,
   "id": "recreational-suggestion",
   "metadata": {
    "execution": {
     "iopub.execute_input": "2022-11-11T13:52:32.625694Z",
     "iopub.status.busy": "2022-11-11T13:52:32.625344Z",
     "iopub.status.idle": "2022-11-11T13:52:32.629654Z",
     "shell.execute_reply": "2022-11-11T13:52:32.628990Z"
    }
   },
   "outputs": [
    {
     "data": {
      "text/plain": [
       "0.0001100301742553711"
      ]
     },
     "execution_count": 7,
     "metadata": {},
     "output_type": "execute_result"
    }
   ],
   "source": [
    "field.X()"
   ]
  },
  {
   "cell_type": "code",
   "execution_count": 8,
   "id": "adopted-exchange",
   "metadata": {
    "execution": {
     "iopub.execute_input": "2022-11-11T13:52:32.633488Z",
     "iopub.status.busy": "2022-11-11T13:52:32.632893Z",
     "iopub.status.idle": "2022-11-11T13:52:32.637199Z",
     "shell.execute_reply": "2022-11-11T13:52:32.636535Z"
    }
   },
   "outputs": [
    {
     "data": {
      "text/plain": [
       "0.0002395947774251302"
      ]
     },
     "execution_count": 8,
     "metadata": {},
     "output_type": "execute_result"
    }
   ],
   "source": [
    "field.X()"
   ]
  },
  {
   "cell_type": "code",
   "execution_count": 9,
   "id": "bound-broadcasting",
   "metadata": {
    "execution": {
     "iopub.execute_input": "2022-11-11T13:52:32.640307Z",
     "iopub.status.busy": "2022-11-11T13:52:32.639881Z",
     "iopub.status.idle": "2022-11-11T13:52:32.645156Z",
     "shell.execute_reply": "2022-11-11T13:52:32.644480Z"
    }
   },
   "outputs": [
    {
     "data": {
      "text/plain": [
       "0.00035367012023925783"
      ]
     },
     "execution_count": 9,
     "metadata": {},
     "output_type": "execute_result"
    }
   ],
   "source": [
    "field.X()"
   ]
  },
  {
   "cell_type": "code",
   "execution_count": 10,
   "id": "casual-ghost",
   "metadata": {
    "execution": {
     "iopub.execute_input": "2022-11-11T13:52:32.649117Z",
     "iopub.status.busy": "2022-11-11T13:52:32.648748Z",
     "iopub.status.idle": "2022-11-11T13:52:32.653983Z",
     "shell.execute_reply": "2022-11-11T13:52:32.652390Z"
    }
   },
   "outputs": [
    {
     "data": {
      "text/plain": [
       "0.000499872366587321"
      ]
     },
     "execution_count": 10,
     "metadata": {},
     "output_type": "execute_result"
    }
   ],
   "source": [
    "field.X()"
   ]
  },
  {
   "cell_type": "markdown",
   "id": "alike-process",
   "metadata": {},
   "source": [
    "As you can see, the field is now ramped in the background with the specified ramp rate. Now, let's try to create a measurement that uses this ability, and ramps the field in the background while measuring:"
   ]
  },
  {
   "cell_type": "code",
   "execution_count": 11,
   "id": "sustained-tiger",
   "metadata": {
    "execution": {
     "iopub.execute_input": "2022-11-11T13:52:32.657246Z",
     "iopub.status.busy": "2022-11-11T13:52:32.656916Z",
     "iopub.status.idle": "2022-11-11T13:52:32.663407Z",
     "shell.execute_reply": "2022-11-11T13:52:32.662819Z"
    }
   },
   "outputs": [],
   "source": [
    "field.ramp_rate(10.)\n",
    "field_X.field(0.0)"
   ]
  },
  {
   "cell_type": "code",
   "execution_count": 12,
   "id": "pharmaceutical-partition",
   "metadata": {
    "execution": {
     "iopub.execute_input": "2022-11-11T13:52:32.666696Z",
     "iopub.status.busy": "2022-11-11T13:52:32.666182Z",
     "iopub.status.idle": "2022-11-11T13:52:32.670904Z",
     "shell.execute_reply": "2022-11-11T13:52:32.670253Z"
    }
   },
   "outputs": [
    {
     "data": {
      "text/plain": [
       "0.0"
      ]
     },
     "execution_count": 12,
     "metadata": {},
     "output_type": "execute_result"
    }
   ],
   "source": [
    "field.X()"
   ]
  },
  {
   "cell_type": "code",
   "execution_count": 13,
   "id": "happy-ordinance",
   "metadata": {
    "execution": {
     "iopub.execute_input": "2022-11-11T13:52:32.673634Z",
     "iopub.status.busy": "2022-11-11T13:52:32.673416Z",
     "iopub.status.idle": "2022-11-11T13:52:33.898111Z",
     "shell.execute_reply": "2022-11-11T13:52:33.897354Z"
    }
   },
   "outputs": [
    {
     "name": "stdout",
     "output_type": "stream",
     "text": [
      "Starting experimental run with id: 60. \n"
     ]
    }
   ],
   "source": [
    "import time\n",
    "meas = qc.Measurement(station=station)\n",
    "meas.register_parameter(field.X)\n",
    "\n",
    "with meas.run() as datasaver:\n",
    "    for B in [0.1, 0.0]:\n",
    "        field.X(B)\n",
    "        while field.X() != B:\n",
    "            datasaver.add_result((field.X, field.X()))\n",
    "            time.sleep(0.01)\n",
    "    datasaver.flush_data_to_database()"
   ]
  },
  {
   "cell_type": "code",
   "execution_count": 14,
   "id": "short-medium",
   "metadata": {
    "execution": {
     "iopub.execute_input": "2022-11-11T13:52:33.901995Z",
     "iopub.status.busy": "2022-11-11T13:52:33.901743Z",
     "iopub.status.idle": "2022-11-11T13:52:34.594196Z",
     "shell.execute_reply": "2022-11-11T13:52:34.593440Z"
    }
   },
   "outputs": [
    {
     "data": {
      "text/plain": [
       "<AxesSubplot: >"
      ]
     },
     "execution_count": 14,
     "metadata": {},
     "output_type": "execute_result"
    },
    {
     "data": {
      "image/png": "[encoded data removed]",
      "text/plain": [
       "<Figure size 640x480 with 1 Axes>"
      ]
     },
     "metadata": {},
     "output_type": "display_data"
    }
   ],
   "source": [
    "datasaver.dataset.to_pandas_dataframe().plot()"
   ]
  },
  {
   "cell_type": "markdown",
   "id": "incomplete-vietnamese",
   "metadata": {},
   "source": [
    "When specifying multiple source parameters on a given parameter, the grouped parameter will automatically return a `namedtuple` that returns both values."
   ]
  },
  {
   "cell_type": "code",
   "execution_count": 15,
   "id": "dangerous-finder",
   "metadata": {
    "execution": {
     "iopub.execute_input": "2022-11-11T13:52:34.597727Z",
     "iopub.status.busy": "2022-11-11T13:52:34.597374Z",
     "iopub.status.idle": "2022-11-11T13:52:34.603230Z",
     "shell.execute_reply": "2022-11-11T13:52:34.602541Z"
    }
   },
   "outputs": [
    {
     "data": {
      "text/plain": [
       "combined(field=0.0, ramp_rate=10.0)"
      ]
     },
     "execution_count": 15,
     "metadata": {},
     "output_type": "execute_result"
    }
   ],
   "source": [
    "field.combined()"
   ]
  },
  {
   "cell_type": "markdown",
   "id": "consolidated-cooper",
   "metadata": {},
   "source": [
    "We can now also create a custom parameter that does a simple calculation based on the current parameters."
   ]
  },
  {
   "cell_type": "code",
   "execution_count": 16,
   "id": "designed-bloom",
   "metadata": {
    "execution": {
     "iopub.execute_input": "2022-11-11T13:52:34.606342Z",
     "iopub.status.busy": "2022-11-11T13:52:34.606113Z",
     "iopub.status.idle": "2022-11-11T13:52:34.610036Z",
     "shell.execute_reply": "2022-11-11T13:52:34.609364Z"
    }
   },
   "outputs": [],
   "source": [
    "import numpy as np\n",
    "\n",
    "def calculate_ramp_time(X, ramp_rate):\n",
    "    \"\"\"Calculate ramp time in seconds\"\"\"\n",
    "    dfield = np.abs(field.target_field - X)\n",
    "    return 60. * dfield/ramp_rate"
   ]
  },
  {
   "cell_type": "code",
   "execution_count": 17,
   "id": "disabled-logic",
   "metadata": {
    "execution": {
     "iopub.execute_input": "2022-11-11T13:52:34.612911Z",
     "iopub.status.busy": "2022-11-11T13:52:34.612673Z",
     "iopub.status.idle": "2022-11-11T13:52:34.616175Z",
     "shell.execute_reply": "2022-11-11T13:52:34.615506Z"
    },
    "scrolled": true
   },
   "outputs": [],
   "source": [
    "field._create_and_add_parameter(\n",
    "    group_name=\"ramp_time\",\n",
    "    station=station,\n",
    "    paths=[\"field_X.field\", \"field_X.ramp_rate\"],\n",
    "    formatter=calculate_ramp_time\n",
    ")"
   ]
  },
  {
   "cell_type": "code",
   "execution_count": 18,
   "id": "adverse-february",
   "metadata": {
    "execution": {
     "iopub.execute_input": "2022-11-11T13:52:34.619205Z",
     "iopub.status.busy": "2022-11-11T13:52:34.618982Z",
     "iopub.status.idle": "2022-11-11T13:52:34.623580Z",
     "shell.execute_reply": "2022-11-11T13:52:34.622916Z"
    }
   },
   "outputs": [
    {
     "data": {
      "text/plain": [
       "6.0"
      ]
     },
     "execution_count": 18,
     "metadata": {},
     "output_type": "execute_result"
    }
   ],
   "source": [
    "field.ramp_rate(1.0)\n",
    "field.target_field = 0.1\n",
    "field.ramp_time()"
   ]
  },
  {
   "cell_type": "code",
   "execution_count": 19,
   "id": "statutory-xerox",
   "metadata": {
    "execution": {
     "iopub.execute_input": "2022-11-11T13:52:34.627455Z",
     "iopub.status.busy": "2022-11-11T13:52:34.626851Z",
     "iopub.status.idle": "2022-11-11T13:52:34.630249Z",
     "shell.execute_reply": "2022-11-11T13:52:34.629593Z"
    }
   },
   "outputs": [],
   "source": [
    "field.X(0.1)"
   ]
  },
  {
   "cell_type": "code",
   "execution_count": 20,
   "id": "varying-auditor",
   "metadata": {
    "execution": {
     "iopub.execute_input": "2022-11-11T13:52:34.633163Z",
     "iopub.status.busy": "2022-11-11T13:52:34.632786Z",
     "iopub.status.idle": "2022-11-11T13:52:34.636914Z",
     "shell.execute_reply": "2022-11-11T13:52:34.636397Z"
    }
   },
   "outputs": [
    {
     "data": {
      "text/plain": [
       "5.994408130645752"
      ]
     },
     "execution_count": 20,
     "metadata": {},
     "output_type": "execute_result"
    }
   ],
   "source": [
    "field.ramp_time()"
   ]
  },
  {
   "cell_type": "code",
   "execution_count": 21,
   "id": "chubby-nickel",
   "metadata": {
    "execution": {
     "iopub.execute_input": "2022-11-11T13:52:34.640101Z",
     "iopub.status.busy": "2022-11-11T13:52:34.639555Z",
     "iopub.status.idle": "2022-11-11T13:52:35.645868Z",
     "shell.execute_reply": "2022-11-11T13:52:35.645121Z"
    }
   },
   "outputs": [
    {
     "data": {
      "text/plain": [
       "4.986172199249268"
      ]
     },
     "execution_count": 21,
     "metadata": {},
     "output_type": "execute_result"
    }
   ],
   "source": [
    "import time\n",
    "time.sleep(1.)\n",
    "field.ramp_time()"
   ]
  },
  {
   "cell_type": "code",
   "execution_count": 22,
   "id": "italian-liberty",
   "metadata": {
    "execution": {
     "iopub.execute_input": "2022-11-11T13:52:35.649335Z",
     "iopub.status.busy": "2022-11-11T13:52:35.649077Z",
     "iopub.status.idle": "2022-11-11T13:52:36.656926Z",
     "shell.execute_reply": "2022-11-11T13:52:36.655891Z"
    }
   },
   "outputs": [
    {
     "data": {
      "text/plain": [
       "3.976725101470948"
      ]
     },
     "execution_count": 22,
     "metadata": {},
     "output_type": "execute_result"
    }
   ],
   "source": [
    "import time\n",
    "time.sleep(1.)\n",
    "field.ramp_time()"
   ]
  },
  {
   "cell_type": "markdown",
   "id": "c1145a2d",
   "metadata": {},
   "source": [
    "# Devices with channels"
   ]
  },
  {
   "cell_type": "markdown",
   "id": "182693f8",
   "metadata": {},
   "source": [
    "The YAML file below specifies the instruments with the channels/parameters we wish to group into a new instrument, here called \"device\". The first example simply adds the channel 'as is' using self.add_submodule, while the readout parameter is added as a DelegateParameter."
   ]
  },
  {
   "cell_type": "code",
   "execution_count": 23,
   "id": "a88d5103",
   "metadata": {
    "execution": {
     "iopub.execute_input": "2022-11-11T13:52:36.660722Z",
     "iopub.status.busy": "2022-11-11T13:52:36.660316Z",
     "iopub.status.idle": "2022-11-11T13:52:36.667499Z",
     "shell.execute_reply": "2022-11-11T13:52:36.666310Z"
    }
   },
   "outputs": [
    {
     "name": "stdout",
     "output_type": "stream",
     "text": [
      "Overwriting example.yaml\n"
     ]
    }
   ],
   "source": [
    "%%writefile example.yaml\n",
    "\n",
    "instruments:\n",
    "  lockin:\n",
    "    type: qcodes.tests.instrument_mocks.MockLockin\n",
    "\n",
    "  dac:\n",
    "    type: qcodes.tests.instrument_mocks.MockDAC   \n",
    "\n",
    "  device:\n",
    "    type: qcodes.instrument.delegate.DelegateInstrument\n",
    "    init:\n",
    "      parameters:\n",
    "        readout: lockin.X\n",
    "      channels:\n",
    "        gate_1: dac.ch01\n",
    "      set_initial_values_on_load: true\n",
    "      initial_values:\n",
    "        readout: 1e-5\n",
    "        gate_1.voltage.post_delay: 0.01"
   ]
  },
  {
   "cell_type": "code",
   "execution_count": 24,
   "id": "91f2a8ab",
   "metadata": {
    "execution": {
     "iopub.execute_input": "2022-11-11T13:52:36.670303Z",
     "iopub.status.busy": "2022-11-11T13:52:36.670068Z",
     "iopub.status.idle": "2022-11-11T13:52:36.682835Z",
     "shell.execute_reply": "2022-11-11T13:52:36.682214Z"
    }
   },
   "outputs": [],
   "source": [
    "station = qc.Station(config_file=\"example.yaml\")"
   ]
  },
  {
   "cell_type": "code",
   "execution_count": 25,
   "id": "45b22762",
   "metadata": {
    "execution": {
     "iopub.execute_input": "2022-11-11T13:52:36.685851Z",
     "iopub.status.busy": "2022-11-11T13:52:36.685622Z",
     "iopub.status.idle": "2022-11-11T13:52:36.723393Z",
     "shell.execute_reply": "2022-11-11T13:52:36.722693Z"
    }
   },
   "outputs": [],
   "source": [
    "lockin = station.load_lockin()\n",
    "dac = station.load_dac()\n",
    "device = station.load_device(station=station)"
   ]
  },
  {
   "cell_type": "code",
   "execution_count": 26,
   "id": "9bfa54fb",
   "metadata": {
    "execution": {
     "iopub.execute_input": "2022-11-11T13:52:36.727116Z",
     "iopub.status.busy": "2022-11-11T13:52:36.726883Z",
     "iopub.status.idle": "2022-11-11T13:52:36.730510Z",
     "shell.execute_reply": "2022-11-11T13:52:36.729817Z"
    }
   },
   "outputs": [
    {
     "name": "stdout",
     "output_type": "stream",
     "text": [
      "<MockDACChannel: dac_ch01 of MockDAC: dac>\n",
      "0.01\n"
     ]
    }
   ],
   "source": [
    "print(device.gate_1)\n",
    "print(device.gate_1.voltage.post_delay)"
   ]
  },
  {
   "cell_type": "code",
   "execution_count": 27,
   "id": "91d57fe0",
   "metadata": {
    "execution": {
     "iopub.execute_input": "2022-11-11T13:52:36.734284Z",
     "iopub.status.busy": "2022-11-11T13:52:36.734062Z",
     "iopub.status.idle": "2022-11-11T13:52:36.748969Z",
     "shell.execute_reply": "2022-11-11T13:52:36.748270Z"
    }
   },
   "outputs": [
    {
     "name": "stdout",
     "output_type": "stream",
     "text": [
      "0.0\n"
     ]
    },
    {
     "data": {
      "text/plain": [
       "-0.6"
      ]
     },
     "execution_count": 27,
     "metadata": {},
     "output_type": "execute_result"
    }
   ],
   "source": [
    "print(device.gate_1.voltage())\n",
    "device.gate_1.voltage(-0.6)\n",
    "device.gate_1.voltage()"
   ]
  },
  {
   "cell_type": "markdown",
   "id": "37e1c2c3",
   "metadata": {},
   "source": [
    "The second example adds a channel using a custom channel class, which takes the initial channel and its name as input and has a parameter current_valid_ranges."
   ]
  },
  {
   "cell_type": "code",
   "execution_count": 28,
   "id": "7e4becd1",
   "metadata": {
    "execution": {
     "iopub.execute_input": "2022-11-11T13:52:36.752416Z",
     "iopub.status.busy": "2022-11-11T13:52:36.752192Z",
     "iopub.status.idle": "2022-11-11T13:52:36.756445Z",
     "shell.execute_reply": "2022-11-11T13:52:36.755743Z"
    }
   },
   "outputs": [
    {
     "name": "stdout",
     "output_type": "stream",
     "text": [
      "Overwriting example.yaml\n"
     ]
    }
   ],
   "source": [
    "%%writefile example.yaml\n",
    "\n",
    "instruments:\n",
    "  lockin:\n",
    "    type: qcodes.tests.instrument_mocks.MockLockin\n",
    "\n",
    "  dac:\n",
    "    type: qcodes.tests.instrument_mocks.MockDAC   \n",
    "\n",
    "  device:\n",
    "    type: qcodes.instrument.delegate.DelegateInstrument\n",
    "    init:\n",
    "      parameters:\n",
    "        readout: lockin.X\n",
    "      channels:\n",
    "        type: qcodes.tests.instrument_mocks.MockCustomChannel\n",
    "        gate_1: \n",
    "          channel: dac.ch01\n",
    "          current_valid_range: [-0.5, 0]\n",
    "      set_initial_values_on_load: true\n",
    "      initial_values:\n",
    "        readout: 1e-5"
   ]
  },
  {
   "cell_type": "code",
   "execution_count": 29,
   "id": "2e3ca8d5",
   "metadata": {
    "execution": {
     "iopub.execute_input": "2022-11-11T13:52:36.760052Z",
     "iopub.status.busy": "2022-11-11T13:52:36.759831Z",
     "iopub.status.idle": "2022-11-11T13:52:36.762966Z",
     "shell.execute_reply": "2022-11-11T13:52:36.762294Z"
    }
   },
   "outputs": [],
   "source": [
    "lockin.close()\n",
    "dac.close()"
   ]
  },
  {
   "cell_type": "code",
   "execution_count": 30,
   "id": "2f2d2b2b",
   "metadata": {
    "execution": {
     "iopub.execute_input": "2022-11-11T13:52:36.765913Z",
     "iopub.status.busy": "2022-11-11T13:52:36.765692Z",
     "iopub.status.idle": "2022-11-11T13:52:36.805938Z",
     "shell.execute_reply": "2022-11-11T13:52:36.805211Z"
    }
   },
   "outputs": [],
   "source": [
    "station = qc.Station(config_file=\"example.yaml\")\n",
    "lockin = station.load_lockin()\n",
    "dac = station.load_dac()"
   ]
  },
  {
   "cell_type": "code",
   "execution_count": 31,
   "id": "9cb653b0",
   "metadata": {
    "execution": {
     "iopub.execute_input": "2022-11-11T13:52:36.809609Z",
     "iopub.status.busy": "2022-11-11T13:52:36.809362Z",
     "iopub.status.idle": "2022-11-11T13:52:36.823932Z",
     "shell.execute_reply": "2022-11-11T13:52:36.823282Z"
    }
   },
   "outputs": [],
   "source": [
    "device = station.load_device(station=station)"
   ]
  },
  {
   "cell_type": "code",
   "execution_count": 32,
   "id": "433d9646",
   "metadata": {
    "execution": {
     "iopub.execute_input": "2022-11-11T13:52:36.827323Z",
     "iopub.status.busy": "2022-11-11T13:52:36.827076Z",
     "iopub.status.idle": "2022-11-11T13:52:36.831608Z",
     "shell.execute_reply": "2022-11-11T13:52:36.830929Z"
    }
   },
   "outputs": [
    {
     "data": {
      "text/plain": [
       "<MockCustomChannel: dac_gate_1 of MockDAC: dac>"
      ]
     },
     "execution_count": 32,
     "metadata": {},
     "output_type": "execute_result"
    }
   ],
   "source": [
    "device.gate_1"
   ]
  },
  {
   "cell_type": "code",
   "execution_count": 33,
   "id": "3d2b8faa",
   "metadata": {
    "execution": {
     "iopub.execute_input": "2022-11-11T13:52:36.835213Z",
     "iopub.status.busy": "2022-11-11T13:52:36.834989Z",
     "iopub.status.idle": "2022-11-11T13:52:36.838135Z",
     "shell.execute_reply": "2022-11-11T13:52:36.837464Z"
    }
   },
   "outputs": [],
   "source": [
    "device.gate_1.voltage(-0.3)"
   ]
  },
  {
   "cell_type": "code",
   "execution_count": 34,
   "id": "49def342",
   "metadata": {
    "execution": {
     "iopub.execute_input": "2022-11-11T13:52:36.841006Z",
     "iopub.status.busy": "2022-11-11T13:52:36.840768Z",
     "iopub.status.idle": "2022-11-11T13:52:36.845062Z",
     "shell.execute_reply": "2022-11-11T13:52:36.844364Z"
    }
   },
   "outputs": [
    {
     "data": {
      "text/plain": [
       "-0.3"
      ]
     },
     "execution_count": 34,
     "metadata": {},
     "output_type": "execute_result"
    }
   ],
   "source": [
    "device.gate_1.voltage()"
   ]
  },
  {
   "cell_type": "markdown",
   "id": "7b122128",
   "metadata": {},
   "source": [
    "The MockCustomChannel has a parameter `current_valid_range`."
   ]
  },
  {
   "cell_type": "code",
   "execution_count": 35,
   "id": "d32a06fd",
   "metadata": {
    "execution": {
     "iopub.execute_input": "2022-11-11T13:52:36.848698Z",
     "iopub.status.busy": "2022-11-11T13:52:36.848478Z",
     "iopub.status.idle": "2022-11-11T13:52:36.852887Z",
     "shell.execute_reply": "2022-11-11T13:52:36.852183Z"
    }
   },
   "outputs": [
    {
     "data": {
      "text/plain": [
       "[-0.5, 0]"
      ]
     },
     "execution_count": 35,
     "metadata": {},
     "output_type": "execute_result"
    }
   ],
   "source": [
    "device.gate_1.current_valid_range()"
   ]
  }
 ],
 "metadata": {
  "kernelspec": {
   "display_name": "Python 3 (ipykernel)",
   "language": "python",
   "name": "python3"
  },
  "language_info": {
   "codemirror_mode": {
    "name": "ipython",
    "version": 3
   },
   "file_extension": ".py",
   "mimetype": "text/x-python",
   "name": "python",
   "nbconvert_exporter": "python",
   "pygments_lexer": "ipython3",
   "version": "3.10.8"
  }
 },
 "nbformat": 4,
 "nbformat_minor": 5
}
